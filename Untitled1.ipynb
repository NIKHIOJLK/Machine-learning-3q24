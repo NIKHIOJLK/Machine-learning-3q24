{
 "cells": [
  {
   "cell_type": "code",
   "execution_count": 7,
   "id": "b1777c2c",
   "metadata": {},
   "outputs": [
    {
     "name": "stdout",
     "output_type": "stream",
     "text": [
      "  Tid Refund Marital Status Tax Income Cheat\n",
      "0   1    Yes         Single       125K    No\n",
      "1   2     NO        Married       100K    No\n",
      "2   3     NO         Single        70K    No\n",
      "3   4    Yes        Married       120K    No\n",
      "4   5     NO       Divorced        95K   Yes\n",
      "5   6     NO        Married        60K    No\n",
      "6   7    YES       Divorced       220K    No\n",
      "7   8     NO         Single        85K   Yes\n",
      "8   9     NO        Married        75K    No\n",
      "9  10     NO         Single        90K   Yes\n",
      "Tid                    1\n",
      "Refund               Yes\n",
      "Marital Status    Single\n",
      "Tax Income          125K\n",
      "Cheat                 No\n",
      "Name: 0, dtype: object\n",
      "Tid                      5\n",
      "Refund                  NO\n",
      "Marital Status    Divorced\n",
      "Tax Income             95K\n",
      "Cheat                  Yes\n",
      "Name: 4, dtype: object\n",
      "Tid                    8\n",
      "Refund                NO\n",
      "Marital Status    Single\n",
      "Tax Income           85K\n",
      "Cheat                Yes\n",
      "Name: 7, dtype: object\n",
      "Tid                     9\n",
      "Refund                 NO\n",
      "Marital Status    Married\n",
      "Tax Income            75K\n",
      "Cheat                  No\n",
      "Name: 8, dtype: object\n"
     ]
    }
   ],
   "source": [
    "import numpy as np\n",
    "import pandas as pd\n",
    "\n",
    "data={\n",
    "    \"Tid\":['1','2','3','4','5','6','7','8','9','10'],\n",
    "    \"Refund\":['Yes','NO','NO','Yes','NO','NO','YES','NO','NO','NO'],\n",
    "    \"Marital Status\":['Single','Married','Single','Married','Divorced','Married','Divorced','Single','Married','Single'],\n",
    "    \"Tax Income\":['125K','100K','70K','120K','95K','60K','220K','85K','75K','90K'],\n",
    "    \"Cheat\":['No','No','No','No','Yes','No','No','Yes','No','Yes']  \n",
    "}\n",
    "df=pd.DataFrame(data)\n",
    "print(df)\n",
    "\n",
    "print(df.loc[0])\n",
    "print(df.loc[4])\n",
    "print(df.loc[7])\n",
    "print(df.loc[8])"
   ]
  },
  {
   "cell_type": "code",
   "execution_count": 12,
   "id": "486b532e",
   "metadata": {},
   "outputs": [
    {
     "data": {
      "text/html": [
       "<div>\n",
       "<style scoped>\n",
       "    .dataframe tbody tr th:only-of-type {\n",
       "        vertical-align: middle;\n",
       "    }\n",
       "\n",
       "    .dataframe tbody tr th {\n",
       "        vertical-align: top;\n",
       "    }\n",
       "\n",
       "    .dataframe thead th {\n",
       "        text-align: right;\n",
       "    }\n",
       "</style>\n",
       "<table border=\"1\" class=\"dataframe\">\n",
       "  <thead>\n",
       "    <tr style=\"text-align: right;\">\n",
       "      <th></th>\n",
       "      <th>Refund</th>\n",
       "      <th>Marital Status</th>\n",
       "      <th>Tax Income</th>\n",
       "    </tr>\n",
       "  </thead>\n",
       "  <tbody>\n",
       "    <tr>\n",
       "      <th>0</th>\n",
       "      <td>Yes</td>\n",
       "      <td>Single</td>\n",
       "      <td>125K</td>\n",
       "    </tr>\n",
       "    <tr>\n",
       "      <th>1</th>\n",
       "      <td>NO</td>\n",
       "      <td>Married</td>\n",
       "      <td>100K</td>\n",
       "    </tr>\n",
       "    <tr>\n",
       "      <th>2</th>\n",
       "      <td>NO</td>\n",
       "      <td>Single</td>\n",
       "      <td>70K</td>\n",
       "    </tr>\n",
       "    <tr>\n",
       "      <th>3</th>\n",
       "      <td>Yes</td>\n",
       "      <td>Married</td>\n",
       "      <td>120K</td>\n",
       "    </tr>\n",
       "    <tr>\n",
       "      <th>4</th>\n",
       "      <td>NO</td>\n",
       "      <td>Divorced</td>\n",
       "      <td>95K</td>\n",
       "    </tr>\n",
       "    <tr>\n",
       "      <th>5</th>\n",
       "      <td>NO</td>\n",
       "      <td>Married</td>\n",
       "      <td>60K</td>\n",
       "    </tr>\n",
       "    <tr>\n",
       "      <th>6</th>\n",
       "      <td>YES</td>\n",
       "      <td>Divorced</td>\n",
       "      <td>220K</td>\n",
       "    </tr>\n",
       "    <tr>\n",
       "      <th>7</th>\n",
       "      <td>NO</td>\n",
       "      <td>Single</td>\n",
       "      <td>85K</td>\n",
       "    </tr>\n",
       "    <tr>\n",
       "      <th>8</th>\n",
       "      <td>NO</td>\n",
       "      <td>Married</td>\n",
       "      <td>75K</td>\n",
       "    </tr>\n",
       "    <tr>\n",
       "      <th>9</th>\n",
       "      <td>NO</td>\n",
       "      <td>Single</td>\n",
       "      <td>90K</td>\n",
       "    </tr>\n",
       "  </tbody>\n",
       "</table>\n",
       "</div>"
      ],
      "text/plain": [
       "  Refund Marital Status Tax Income\n",
       "0    Yes         Single       125K\n",
       "1     NO        Married       100K\n",
       "2     NO         Single        70K\n",
       "3    Yes        Married       120K\n",
       "4     NO       Divorced        95K\n",
       "5     NO        Married        60K\n",
       "6    YES       Divorced       220K\n",
       "7     NO         Single        85K\n",
       "8     NO        Married        75K\n",
       "9     NO         Single        90K"
      ]
     },
     "execution_count": 12,
     "metadata": {},
     "output_type": "execute_result"
    }
   ],
   "source": [
    "df.iloc[3:8]\n",
    "df.iloc[4:9,2:4]\n",
    "df.iloc[:,1:4]"
   ]
  },
  {
   "cell_type": "code",
   "execution_count": 14,
   "id": "00a54144",
   "metadata": {},
   "outputs": [
    {
     "name": "stdout",
     "output_type": "stream",
     "text": [
      "<bound method DataFrame.to_string of      sepal_length  sepal_width  petal_length  petal_width    species\n",
      "0             5.1          3.5           1.4          0.2     setosa\n",
      "1             4.9          3.0           1.4          0.2     setosa\n",
      "2             4.7          3.2           1.3          0.2     setosa\n",
      "3             4.6          3.1           1.5          0.2     setosa\n",
      "4             5.0          3.6           1.4          0.2     setosa\n",
      "..            ...          ...           ...          ...        ...\n",
      "145           6.7          3.0           5.2          2.3  virginica\n",
      "146           6.3          2.5           5.0          1.9  virginica\n",
      "147           6.5          3.0           5.2          2.0  virginica\n",
      "148           6.2          3.4           5.4          2.3  virginica\n",
      "149           5.9          3.0           5.1          1.8  virginica\n",
      "\n",
      "[150 rows x 5 columns]>\n"
     ]
    }
   ],
   "source": [
    "df=pd.read_csv('iris.csv')\n",
    "df.head()\n",
    "df.tail(5)\n",
    "print(df.to_string)"
   ]
  },
  {
   "cell_type": "code",
   "execution_count": 18,
   "id": "ca7ea877",
   "metadata": {},
   "outputs": [
    {
     "name": "stdout",
     "output_type": "stream",
     "text": [
      "9\n",
      "10\n"
     ]
    },
    {
     "data": {
      "text/plain": [
       "<bound method DataFrame.info of    Employee_ID     Name Department   Age   Salary  Years_Experience  \\\n",
       "0        101.0    Alice         HR  29.0  50000.0               4.0   \n",
       "1        102.0      Bob         IT  34.0  70000.0               8.0   \n",
       "2        103.0  Charlie         IT  41.0  65000.0              10.0   \n",
       "3        104.0    Diana  Marketing  28.0  55000.0               3.0   \n",
       "4        105.0   Edward      Sales  38.0  60000.0              12.0   \n",
       "5          NaN      NaN        NaN   NaN      NaN               NaN   \n",
       "6          NaN      NaN        NaN   NaN      NaN               NaN   \n",
       "7          NaN      NaN        NaN   NaN      NaN               NaN   \n",
       "8          NaN      NaN        NaN   NaN      NaN               NaN   \n",
       "\n",
       "    Join_Date  Gender   Bonus  Rating  \n",
       "0  2020-03-15  Female  5000.0     4.5  \n",
       "1  2017-07-19    Male  7000.0     4.0  \n",
       "2  2013-06-01    Male  6000.0     3.8  \n",
       "3  2021-02-10  Female  4500.0     4.7  \n",
       "4  2010-11-25    Male  5000.0     3.5  \n",
       "5         NaN     NaN     NaN     NaN  \n",
       "6         NaN     NaN     NaN     NaN  \n",
       "7         NaN     NaN     NaN     NaN  \n",
       "8         NaN     NaN     NaN     NaN  >"
      ]
     },
     "execution_count": 18,
     "metadata": {},
     "output_type": "execute_result"
    }
   ],
   "source": [
    "data=pd.read_csv('employeetable.csv')\n",
    "print(data.shape[0])\n",
    "print(data.shape[1])\n",
    "data.info"
   ]
  },
  {
   "cell_type": "code",
   "execution_count": 20,
   "id": "f83759c7",
   "metadata": {},
   "outputs": [
    {
     "name": "stdout",
     "output_type": "stream",
     "text": [
      "       Employee_ID        Age       Salary  Years_Experience   Bonus    Rating\n",
      "count     5.000000   5.000000      5.00000          5.000000     5.0  5.000000\n",
      "mean    103.000000  34.000000  60000.00000          7.400000  5500.0  4.100000\n",
      "std       1.581139   5.612486   7905.69415          3.847077  1000.0  0.494975\n",
      "min     101.000000  28.000000  50000.00000          3.000000  4500.0  3.500000\n",
      "25%     102.000000  29.000000  55000.00000          4.000000  5000.0  3.800000\n",
      "50%     103.000000  34.000000  60000.00000          8.000000  5000.0  4.000000\n",
      "75%     104.000000  38.000000  65000.00000         10.000000  6000.0  4.500000\n",
      "max     105.000000  41.000000  70000.00000         12.000000  7000.0  4.700000\n"
     ]
    }
   ],
   "source": [
    "print(data.describe())"
   ]
  },
  {
   "cell_type": "code",
   "execution_count": 22,
   "id": "5f83b4c9",
   "metadata": {},
   "outputs": [
    {
     "data": {
      "text/html": [
       "<div>\n",
       "<style scoped>\n",
       "    .dataframe tbody tr th:only-of-type {\n",
       "        vertical-align: middle;\n",
       "    }\n",
       "\n",
       "    .dataframe tbody tr th {\n",
       "        vertical-align: top;\n",
       "    }\n",
       "\n",
       "    .dataframe thead th {\n",
       "        text-align: right;\n",
       "    }\n",
       "</style>\n",
       "<table border=\"1\" class=\"dataframe\">\n",
       "  <thead>\n",
       "    <tr style=\"text-align: right;\">\n",
       "      <th></th>\n",
       "      <th>sepal_length</th>\n",
       "      <th>sepal_width</th>\n",
       "      <th>petal_length</th>\n",
       "      <th>petal_width</th>\n",
       "      <th>species</th>\n",
       "    </tr>\n",
       "  </thead>\n",
       "  <tbody>\n",
       "    <tr>\n",
       "      <th>147</th>\n",
       "      <td>6.5</td>\n",
       "      <td>3.0</td>\n",
       "      <td>5.2</td>\n",
       "      <td>2.0</td>\n",
       "      <td>virginica</td>\n",
       "    </tr>\n",
       "    <tr>\n",
       "      <th>148</th>\n",
       "      <td>6.2</td>\n",
       "      <td>3.4</td>\n",
       "      <td>5.4</td>\n",
       "      <td>2.3</td>\n",
       "      <td>virginica</td>\n",
       "    </tr>\n",
       "    <tr>\n",
       "      <th>149</th>\n",
       "      <td>5.9</td>\n",
       "      <td>3.0</td>\n",
       "      <td>5.1</td>\n",
       "      <td>1.8</td>\n",
       "      <td>virginica</td>\n",
       "    </tr>\n",
       "  </tbody>\n",
       "</table>\n",
       "</div>"
      ],
      "text/plain": [
       "     sepal_length  sepal_width  petal_length  petal_width    species\n",
       "147           6.5          3.0           5.2          2.0  virginica\n",
       "148           6.2          3.4           5.4          2.3  virginica\n",
       "149           5.9          3.0           5.1          1.8  virginica"
      ]
     },
     "execution_count": 22,
     "metadata": {},
     "output_type": "execute_result"
    }
   ],
   "source": [
    "df.head(5)\n",
    "df.tail(3)"
   ]
  },
  {
   "cell_type": "code",
   "execution_count": null,
   "id": "cecd21c4",
   "metadata": {},
   "outputs": [],
   "source": []
  }
 ],
 "metadata": {
  "kernelspec": {
   "display_name": "Python 3 (ipykernel)",
   "language": "python",
   "name": "python3"
  },
  "language_info": {
   "codemirror_mode": {
    "name": "ipython",
    "version": 3
   },
   "file_extension": ".py",
   "mimetype": "text/x-python",
   "name": "python",
   "nbconvert_exporter": "python",
   "pygments_lexer": "ipython3",
   "version": "3.9.12"
  }
 },
 "nbformat": 4,
 "nbformat_minor": 5
}
